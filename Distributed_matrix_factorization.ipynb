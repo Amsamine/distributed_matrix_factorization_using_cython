{
  "nbformat": 4,
  "nbformat_minor": 0,
  "metadata": {
    "colab": {
      "name": "Distributed_matrix_factorization.ipynb",
      "provenance": [],
      "collapsed_sections": []
    },
    "kernelspec": {
      "name": "python3",
      "display_name": "Python 3"
    },
    "language_info": {
      "name": "python"
    }
  },
  "cells": [
    {
      "cell_type": "markdown",
      "source": [
        "The main aim of this project is to build a distributed matrix factorization model, it was realized as a part of my studies at ENSAE.\n",
        "\n",
        "This project is based on the paper [CuMF_SGD: Fast and Scalable Matrix Factorization](https://arxiv.org/abs/1610.05838).\n",
        "\n",
        "This project was realized on google colaboratory for simplicity : using cython can be tedious on normal interpretors since it is necessary to save cythonized functions in separate files.\n",
        "\n",
        "\n",
        "\n",
        "The CPU offered by colab only has 2 cores, therefore the benefits of distibuting matrix factorization on CPU is only slightly visible. This is especially true as cython first compiles the code to C++ which is much faster, which means that the benefits of distributing matrix factorization might be overshadowed by the benefits of compiling the code to C++."
      ],
      "metadata": {
        "id": "gJtTnAR_eBKJ"
      }
    },
    {
      "cell_type": "code",
      "source": [
        "#@title Count number of CPUs\n",
        "import multiprocessing\n",
        "cores = multiprocessing.cpu_count() \n",
        "print(\"The CPU has\",cores,\"cores.\")"
      ],
      "metadata": {
        "colab": {
          "base_uri": "https://localhost:8080/"
        },
        "id": "5VrmZUiMeSiE",
        "outputId": "5bd9d87b-56f2-4c6e-9325-04ca27a6f40a",
        "cellView": "form"
      },
      "execution_count": null,
      "outputs": [
        {
          "output_type": "stream",
          "name": "stdout",
          "text": [
            "The CPU has 2 cores.\n"
          ]
        }
      ]
    },
    {
      "cell_type": "markdown",
      "source": [
        "---------"
      ],
      "metadata": {
        "id": "agXLjzbMele4"
      }
    },
    {
      "cell_type": "markdown",
      "source": [
        "Matrix Factorization is a matrix completion technique. Matrix completion techniques aim to reconstruct a whole matrix M using only a few measures of coming from this matrix.\n",
        "\n",
        "The idea of Matrix factorization is build two low ranks matrixes $P$ and $Q$ such that $M \\approx P*Q$.\n",
        "\n",
        "We first randomly initialize $P$ and $Q$, and update their coordinates using $SGD$.\n",
        "\n",
        "\n",
        "The ($SGD$) loss used in this model is a normalized version the root mean square error : given $M,P$ and $Q$ and two integers $i$ and $j$, the error at coordinate $(i,j)$ is given by :\n",
        "\n",
        "$err(i,j) = (M_{i,j}-\\langle P_{i,.},Q_{.,j}\\rangle)^{2} + \\alpha \\|P_{i,.}\\|_{2}^{2} + \\beta \\|Q_{.,j}\\|_{2}^{2}$\n",
        "\n",
        "Where $P_{i,.}$ denotes the $i-th$ row of $P$, $Q_{.,j}$ denotes the $j-th$ column of Q, $\\alpha$ and $\\beta$ are two regularization parameters and $\\langle , \\rangle$ denotes the usual dot product."
      ],
      "metadata": {
        "id": "9E4UX__7K7B2"
      }
    },
    {
      "cell_type": "markdown",
      "source": [
        "---------"
      ],
      "metadata": {
        "id": "nhwH_JjTK5Mq"
      }
    },
    {
      "cell_type": "markdown",
      "source": [
        "Python makes use of the GIL, a mutex lock. It is therefore not possible to parallelize code on native python.\n",
        "\n",
        "One way to still be able to use parallelism on python is through the Cython library. In notebooks, it is possible to use the Cython environment using a %%cython command."
      ],
      "metadata": {
        "id": "v4tVhsIExu43"
      }
    },
    {
      "cell_type": "code",
      "source": [
        "#@title Let us first import the libraries we will be using. We will be implementing matrix factorization from scratch using mainly numpy.\n",
        "import numpy as np\n",
        "import matplotlib.pyplot as plt\n",
        "from copy import deepcopy\n",
        "from timeit import timeit"
      ],
      "metadata": {
        "id": "OlSpl7Zdcf8V",
        "cellView": "form"
      },
      "execution_count": 10,
      "outputs": []
    },
    {
      "cell_type": "code",
      "source": [
        "#@title we load the Cython Extension to be able to create cython cells\n",
        "%load_ext Cython"
      ],
      "metadata": {
        "id": "H6QvHxFZnd4W"
      },
      "execution_count": null,
      "outputs": []
    },
    {
      "cell_type": "markdown",
      "source": [
        "For this project, we will mainly be using netflix's test dataset which contains ratings for different movies. We download it below :"
      ],
      "metadata": {
        "id": "qYOt_sH692OB"
      }
    },
    {
      "cell_type": "code",
      "source": [
        "!gdown https://drive.google.com/uc?id=1SXD-ceYFqMzv1raRkRzIcuNZF03sCFM3"
      ],
      "metadata": {
        "colab": {
          "base_uri": "https://localhost:8080/"
        },
        "id": "jwePWQOlY0TF",
        "outputId": "20d23084-4c7b-4b72-ae44-6011ceb3b578"
      },
      "execution_count": 7,
      "outputs": [
        {
          "output_type": "stream",
          "name": "stdout",
          "text": [
            "Downloading...\n",
            "From: https://drive.google.com/uc?id=1SXD-ceYFqMzv1raRkRzIcuNZF03sCFM3\n",
            "To: /content/netflix_test.txt\n",
            "\r  0% 0.00/21.1M [00:00<?, ?B/s]\r 22% 4.72M/21.1M [00:00<00:00, 34.1MB/s]\r100% 21.1M/21.1M [00:00<00:00, 111MB/s] \n"
          ]
        }
      ]
    },
    {
      "cell_type": "markdown",
      "source": [
        "Below we define a function to read the data. As the matrix is mostly sparse, we will read the matrix as a sparse format in which each element of our output list will be of the form $i,j,r_{i,j}$ where $i,j$ indicates the position in the rating matrix and $r_{i,j}$ indicates the observed rating."
      ],
      "metadata": {
        "id": "PI3wh6FJZ65S"
      }
    },
    {
      "cell_type": "code",
      "execution_count": 8,
      "metadata": {
        "id": "uGfizZtsayEm"
      },
      "outputs": [],
      "source": [
        "def load_data(mode = \"sparse\", n=-1, file = \"netflix_test.txt\", shuffle=True):\n",
        "    \"\"\"\n",
        "    Load the data\n",
        "    mode: 'sparse' for sample format (i, j, R[i,j]), 'full' for full R matrix\n",
        "    n: number of rows to load from file; set negative to load all the data\n",
        "    shuffle: Randomly shuffle the samples\n",
        "    \"\"\"\n",
        "    data_sep = \" \" if file==\"netflix_test.txt\" else \",\"\n",
        "    # Load data from file\n",
        "    data = np.genfromtxt(\"netflix_test.txt\", delimiter=data_sep, dtype=\"int32\")\n",
        "    data = data[:,[0,1,3]]\n",
        "    # set number of rows to load\n",
        "    if n<=0 or n>len(data):\n",
        "        n = len(data)\n",
        "    # shuffle\n",
        "    if shuffle:\n",
        "        np.random.shuffle(data)\n",
        "    # Convert to the defined mode\n",
        "    if mode==\"sparse\":\n",
        "        R = data[:n,:]\n",
        "    elif mode==\"full\":\n",
        "        data = data[:n,:]\n",
        "        rows, row_pos = np.unique(data[:, 0], return_inverse=True)\n",
        "        cols, col_pos = np.unique(data[:, 1], return_inverse=True)\n",
        "        R = np.zeros((len(rows), len(cols)), dtype=\"uint8\")\n",
        "        R[row_pos, col_pos] = data[:, 2]\n",
        "    else:\n",
        "        print(\"mode should be 'sparse' or 'full'\")\n",
        "        return(-1)\n",
        "    return R"
      ]
    },
    {
      "cell_type": "markdown",
      "source": [
        "We load the data below. Let us note that as a starting point to have lighter computations we will only be using the first 10000 row of the output matrix which consist in 10000 rating samples from our sparse rating matrix."
      ],
      "metadata": {
        "id": "Z3nvZcRcZspN"
      }
    },
    {
      "cell_type": "code",
      "source": [
        "R=load_data()"
      ],
      "metadata": {
        "id": "dyGklt6dcrga"
      },
      "execution_count": 11,
      "outputs": []
    },
    {
      "cell_type": "markdown",
      "source": [
        "Below, the implementation of the non distributed version of algorithm :"
      ],
      "metadata": {
        "id": "L5tupzk-aZop"
      }
    },
    {
      "cell_type": "code",
      "source": [
        "def rmse(R, P, Q):\n",
        "    \"\"\"\n",
        "    Calculate the root mean square error between two matrices on non-zero elements\n",
        "    \"\"\"\n",
        "    sse = 0 # sum of squared errors\n",
        "    for i, j, r in R:\n",
        "        prediction = P[i, :].dot(Q[j, :].T)\n",
        "        sse += (r - prediction)**2\n",
        "    return np.sqrt(sse/len(R))\n",
        "\n",
        "def sgd_iteration(P, Q, samples, alpha, beta):\n",
        "    \"\"\"\n",
        "    SGD iteration over the provided samples from R\n",
        "    \"\"\"\n",
        "    for i, j, r in samples:\n",
        "        # Compute prediction and error\n",
        "        prediction = P[i, :].dot(Q[j, :].T)\n",
        "        e = (r - prediction)\n",
        "\n",
        "        # Update user and item feature matrices\n",
        "        P[i, :] += alpha * (e * Q[j, :] - beta * P[i,:])\n",
        "        Q[j, :] += alpha * (e * P[i, :] - beta * Q[j,:])\n",
        "    return(P,Q)\n",
        "\n",
        "def mf_sgd(R, k, alpha, beta, n_iter, verbose = True):\n",
        "    \"\"\"\n",
        "    Matrix factorization\n",
        "    - R : matrix to factorize\n",
        "    - k : latent dimension\n",
        "    - alpha : learning rate\n",
        "    - beta : regularization parameter\n",
        "    - n_iter : number of SGD iterations\n",
        "    \"\"\"\n",
        "    # Initialize user and item feature matrices\n",
        "    m,n = int(1+np.max(R[:,0])), int(1+np.max(R[:,1]))\n",
        "    P = 1./k * np.random.normal(size=(m,k))\n",
        "    Q = 1./k * np.random.normal(size=(n,k))\n",
        "\n",
        "    # Perform stochastic gradient descent for number of iterations\n",
        "    for i in range(n_iter):\n",
        "        P,Q = sgd_iteration(P, Q, R, alpha, beta)\n",
        "        if verbose and ((i+1)%(n_iter//10) == 0):\n",
        "            print(f\"Iteration: {i+1}: RMSE = {rmse(R, P, Q):.5f}\")\n",
        "    return(P,Q)"
      ],
      "metadata": {
        "id": "ED8yl4GvVj9Y"
      },
      "execution_count": 13,
      "outputs": []
    },
    {
      "cell_type": "markdown",
      "source": [
        "We start by measuring the average execution time of the non distributed algorithm as a function of the parameter $k$ which represents the rank of the matrixes $P$ and $Q$.\n",
        "\n",
        "The time plotted is the average time to run the factorization matrix on the first 10000 samples (tuples of the form $(i,j,r_{i,j})$) of our matrix R over 10 epochs."
      ],
      "metadata": {
        "id": "9rX98snMag8Z"
      }
    },
    {
      "cell_type": "code",
      "source": [
        "timeit_results=[]\n",
        "indexes=[10*i for i in range(1,11)]\n",
        "number=5\n",
        "R_time=R[:10000]\n",
        "for index in indexes:\n",
        "  exec_time=timeit(\"mf_sgd(R_time,k=\"+str(index)+\",alpha=0.01, beta=0.0001, n_iter=10,verbose=False)\",\"from __main__ import mf_sgd,R_time\",number=number)\n",
        "  exec_time=exec_time/number\n",
        "  timeit_results.append(exec_time)"
      ],
      "metadata": {
        "id": "l9GlZfnlcDFD"
      },
      "execution_count": null,
      "outputs": []
    },
    {
      "cell_type": "code",
      "source": [
        "#@title Plot of average execution time for 10 iterations as a function of rank k\n",
        "plt.plot(indexes,timeit_results)\n",
        "plt.xlabel(\"k\")\n",
        "plt.ylabel(\"execution time in s\")\n",
        "plt.show()"
      ],
      "metadata": {
        "colab": {
          "base_uri": "https://localhost:8080/",
          "height": 279
        },
        "outputId": "31ef0208-b74a-44a8-fdc9-2198da0ff7ed",
        "cellView": "form",
        "id": "sODDdf8RcDFF"
      },
      "execution_count": null,
      "outputs": [
        {
          "output_type": "display_data",
          "data": {
            "image/png": "[encoded data removed]",
            "text/plain": [
              "<Figure size 432x288 with 1 Axes>"
            ]
          },
          "metadata": {
            "needs_background": "light"
          }
        }
      ]
    },
    {
      "cell_type": "markdown",
      "source": [
        "This will be used as the reference time for the non distributed version of our algorithm.\n",
        "\n",
        "In the presented Matrix Factorization Algorithm, we will try to distribute 2 main steps :\n",
        "- First, the step in which we compute the RMSE as there are no other operations at the same time\n",
        "- Second, the SDE phase."
      ],
      "metadata": {
        "id": "5Ctbqfm2cUkr"
      }
    },
    {
      "cell_type": "markdown",
      "source": [
        "As we first aim to distribute the computation of **RMSE**, we start by computing the two factorized matrixes $P$ and $Q$ using the non distributed algorithm.\n",
        "\n",
        "We will use these matrixes $P$ and $Q$ to evaluate the execution time of the distributed **RMSE** function."
      ],
      "metadata": {
        "id": "MdqFW6Stcv96"
      }
    },
    {
      "cell_type": "code",
      "source": [
        "P,Q = mf_sgd(R[:100], k=2, alpha=0.01, beta=0.0001, n_iter=10)"
      ],
      "metadata": {
        "colab": {
          "base_uri": "https://localhost:8080/"
        },
        "id": "UXivVexiP0p_",
        "outputId": "91366b15-5467-4bfc-9aac-1d08dc38b62f"
      },
      "execution_count": null,
      "outputs": [
        {
          "output_type": "stream",
          "name": "stdout",
          "text": [
            "Iteration: 1: RMSE = 3.70876\n",
            "Iteration: 2: RMSE = 3.67015\n",
            "Iteration: 3: RMSE = 3.63236\n",
            "Iteration: 4: RMSE = 3.59509\n",
            "Iteration: 5: RMSE = 3.55810\n",
            "Iteration: 6: RMSE = 3.52119\n",
            "Iteration: 7: RMSE = 3.48419\n",
            "Iteration: 8: RMSE = 3.44695\n",
            "Iteration: 9: RMSE = 3.40936\n",
            "Iteration: 10: RMSE = 3.37133\n"
          ]
        }
      ]
    },
    {
      "cell_type": "markdown",
      "source": [
        "## RMSE"
      ],
      "metadata": {
        "id": "QRZpDVgr3ihl"
      }
    },
    {
      "cell_type": "markdown",
      "source": [
        "We can try to distribute the RMSE between the real rating matrix $R$ and the predicted matrix $\\hat{R}$ over $l$ cores. **RMSE** is an error defined as a sum of indepedent terms :\n",
        "\n",
        "RMSE($R,\\hat{R}$)$^{2}$=$\\sum_{i=0}^{n}(r_{i}-\\hat{r}_{i})^{2}$=$\\sum_{p=0}^{l-1}\\sum_{i=p*[n/l]}^{(p+1)*[n/l]}(r_{i}-\\hat{r}_{i})^{2}$\n",
        "\n",
        "Therefore we also have :\n",
        "\n",
        "RMSE($R,\\hat{R}$)$^{2}$=$\\sum_{p=0}^{l-1}\\sum_{i=p*[n/l]}^{(p+1)*[n/l]}(r_{i}-\\hat{r}_{i})^{2}$\n",
        "\n",
        "With $l$ a chosen integer."
      ],
      "metadata": {
        "id": "6oVjkCE7duOI"
      }
    },
    {
      "cell_type": "code",
      "source": [
        "%%cython\n",
        "\n",
        "import numpy as np\n",
        "\n",
        "cimport cython\n",
        "cimport numpy as np\n",
        "np.import_array()\n",
        "\n",
        "from cython.parallel cimport prange\n",
        "\n",
        "import array\n",
        "from cpython cimport array\n",
        "\n",
        "\n",
        "\n",
        "@cython.boundscheck(False)\n",
        "@cython.wraparound(False)\n",
        "cdef double dot_fct(double[:] x,double[:] y) nogil:\n",
        "  '''Simple dot function as np.dot does not seem to work without gil'''\n",
        "\n",
        "  cdef int n=len(x)\n",
        "  cdef int i\n",
        "  cdef double result=0\n",
        "  for i in range(n):\n",
        "    result+=x[i]*y[i]\n",
        "  return result\n",
        "\n",
        "@cython.boundscheck(False)\n",
        "@cython.wraparound(False)\n",
        "cdef double list_sum(double[:] to_sum_list) nogil:\n",
        "  '''sum elements in a list'''\n",
        "  cdef int n = len(to_sum_list)\n",
        "  cdef double result=0\n",
        "  for i in range(n):\n",
        "    result+=to_sum_list[i]\n",
        "  return result\n",
        "\n",
        "\n",
        "\n",
        "@cython.boundscheck(False)\n",
        "@cython.wraparound(False)\n",
        "def rmse_paral( int[:,:] R, double[:,:] P,  double[:,:] Q,const int n=10) :\n",
        "\n",
        "    '''Compute root mean square error between  real Rating matrix and predicted rating matrix\n",
        "    R : sparse rating matrix\n",
        "    P : First factorization matrix\n",
        "    Q : second factorization matrix\n",
        "    n : integer, this is the integer on which we paralellize.\n",
        "    '''\n",
        "\n",
        "    cdef int nb_rows=len(R) # Nb of observations\n",
        "    cdef int step=nb_rows//n # \n",
        "\n",
        "    cdef int start_index,end_index\n",
        "\n",
        "    cdef int k,l\n",
        "    cdef int i,j,r\n",
        "\n",
        "    cdef double pred\n",
        "\n",
        "    cdef double[:] split_error_list=array.array(\"d\",[0 for i in range(n)])\n",
        "\n",
        "    cdef double tot_error=0\n",
        "    for k in prange(n-1,nogil=True): # The part in whih the multithreading takes place\n",
        "      start_index=k*step\n",
        "      end_index=(k+1)*step if k!=(n-2) else nb_rows\n",
        "      \n",
        "      for l in range(start_index,end_index):\n",
        "        i=R[l,0]\n",
        "        j=R[l,1]\n",
        "        r=R[l,2]\n",
        "        pred=dot_fct(P[i,:],Q[j,:])\n",
        "        split_error_list[k]+=(r-pred)**2\n",
        "  \n",
        "    tot_error=list_sum(split_error_list)\n",
        "    tot_error=(tot_error/nb_rows)**0.5\n",
        "    return(tot_error)\n",
        "\n",
        "#################################################################################################################\n",
        "\n",
        "\n",
        "@cython.boundscheck(False)\n",
        "@cython.wraparound(False)\n",
        "cdef double dot_fct(double[:] x,double[:] y) nogil:\n",
        "  '''Simple dot function as np.dot does not seem to work without gil'''\n",
        "\n",
        "  cdef int n=len(x)\n",
        "  cdef int i\n",
        "  cdef double result=0\n",
        "  for i in range(n):\n",
        "    result+=x[i]*y[i]\n",
        "  return result\n",
        "\n",
        "@cython.boundscheck(False)\n",
        "@cython.wraparound(False)\n",
        "cdef double list_sum(double[:] to_sum_list) nogil:\n",
        "  '''sum elements in a list'''\n",
        "  cdef int n = len(to_sum_list)\n",
        "  cdef double result=0\n",
        "  for i in range(n):\n",
        "    result+=to_sum_list[i]\n",
        "  return result\n",
        "\n",
        "@cython.boundscheck(False)\n",
        "@cython.wraparound(False)\n",
        "\n",
        "def rmse_non_paral(int[:,:] R, double[:,:] P,  double[:,:] Q) :\n",
        "    '''Compute root mean square error between real Rating matrix and predicted rating matrix without paralellization\n",
        "    R : sparse rating matrix\n",
        "    P : First factorization matrix\n",
        "    Q : second factorization matrix\n",
        "    '''\n",
        "    cdef int nb_rows=len(R)\n",
        "    cdef int i,j,r\n",
        "\n",
        "    cdef double pred\n",
        "    cdef double tot_error=0\n",
        "\n",
        "    for k in range(nb_rows):\n",
        "      \n",
        "      i=R[k,0]\n",
        "      j=R[k,1]\n",
        "      r=R[k,2]\n",
        "\n",
        "      pred=dot_fct(P[i,:],Q[j,:])\n",
        "\n",
        "      tot_error+=(r-pred)**2\n",
        "    \n",
        "    cdef double result=(tot_error/nb_rows)**0.5\n",
        "    return(result)\n"
      ],
      "metadata": {
        "id": "0cX7EmSE-uak"
      },
      "execution_count": null,
      "outputs": []
    },
    {
      "cell_type": "markdown",
      "source": [
        "When comparing the execution time of the distributed version and the non distributed version of the computation of **RMSE**, we notice that the distributed version is up to 100 times faster :"
      ],
      "metadata": {
        "id": "ImO3ZZrHev7l"
      }
    },
    {
      "cell_type": "markdown",
      "source": [
        "Distributed version :"
      ],
      "metadata": {
        "id": "euqTXyw3e6PB"
      }
    },
    {
      "cell_type": "code",
      "source": [
        "%%timeit\n",
        "rmse_paral(R[:100],P,Q)"
      ],
      "metadata": {
        "colab": {
          "base_uri": "https://localhost:8080/"
        },
        "id": "b5nCEdQy4epz",
        "outputId": "fa39ac68-0ee4-4c7b-c0cf-3cedf6cb2279"
      },
      "execution_count": null,
      "outputs": [
        {
          "output_type": "stream",
          "name": "stdout",
          "text": [
            "The slowest run took 12.92 times longer than the fastest. This could mean that an intermediate result is being cached.\n",
            "100000 loops, best of 5: 6.62 µs per loop\n"
          ]
        }
      ]
    },
    {
      "cell_type": "markdown",
      "source": [
        "Non distributed version :"
      ],
      "metadata": {
        "id": "2C0EXUxIe8Xj"
      }
    },
    {
      "cell_type": "code",
      "source": [
        "%%timeit\n",
        "rmse(R[:100],P,Q)"
      ],
      "metadata": {
        "colab": {
          "base_uri": "https://localhost:8080/"
        },
        "id": "PQeQIJYbQZ_z",
        "outputId": "94cfb45e-8b5f-40c1-aa2f-0f1c047958ea"
      },
      "execution_count": null,
      "outputs": [
        {
          "output_type": "stream",
          "name": "stdout",
          "text": [
            "1000 loops, best of 5: 735 µs per loop\n"
          ]
        }
      ]
    },
    {
      "cell_type": "markdown",
      "source": [
        "But it is also important to try and measure the real impact of distributing the computation as once again Cython compiles the code into C++ which makes its execution faster than a normal python distribution anyway."
      ],
      "metadata": {
        "id": "clsdQUeJe-2L"
      }
    },
    {
      "cell_type": "markdown",
      "source": [
        "non distributed Cython RMSE computation  "
      ],
      "metadata": {
        "id": "1lt7gWsnZHCG"
      }
    },
    {
      "cell_type": "code",
      "source": [
        "%%timeit\n",
        "rmse_non_paral(R[:100],P,Q)"
      ],
      "metadata": {
        "colab": {
          "base_uri": "https://localhost:8080/"
        },
        "id": "O3fa8LDVSZA7",
        "outputId": "153569ee-1175-4ee0-c918-18a1224e1abf"
      },
      "execution_count": null,
      "outputs": [
        {
          "output_type": "stream",
          "name": "stdout",
          "text": [
            "The slowest run took 14.49 times longer than the fastest. This could mean that an intermediate result is being cached.\n",
            "100000 loops, best of 5: 5.35 µs per loop\n"
          ]
        }
      ]
    },
    {
      "cell_type": "markdown",
      "source": [
        "We can notice that the non distributed version Cython version of RMSE is faster than its distributed version (5.35 $\\mu$s in average VS 6.62 $\\mu$s).\n",
        "\n",
        "This might come from the fact that we use only a small sample of the rating matrix (10000 ratings). We try again this time using 100000 ratings. But once again, the non distributed version is faster than the distributed version :"
      ],
      "metadata": {
        "id": "t_jVRKC3fRxC"
      }
    },
    {
      "cell_type": "code",
      "source": [
        "#@title We generate 2 matrixes $P$ and $Q$ of rank 64 using the first 100000 ratings to evaluate the RMSE function\n",
        "P2,Q2 = mf_sgd(R[:100000], k=64, alpha=0.01, beta=0.0001, n_iter=20) "
      ],
      "metadata": {
        "colab": {
          "base_uri": "https://localhost:8080/"
        },
        "id": "is-j22pGctNp",
        "outputId": "bf335802-48fa-40f9-9f54-ebd82fa2d9d7",
        "cellView": "form"
      },
      "execution_count": null,
      "outputs": [
        {
          "output_type": "stream",
          "name": "stdout",
          "text": [
            "Iteration: 2: RMSE = 3.76471\n",
            "Iteration: 4: RMSE = 3.51983\n",
            "Iteration: 6: RMSE = 3.21554\n",
            "Iteration: 8: RMSE = 2.96303\n",
            "Iteration: 10: RMSE = 2.74403\n",
            "Iteration: 12: RMSE = 2.54155\n",
            "Iteration: 14: RMSE = 2.35855\n",
            "Iteration: 16: RMSE = 2.19591\n",
            "Iteration: 18: RMSE = 2.05233\n",
            "Iteration: 20: RMSE = 1.92308\n"
          ]
        }
      ]
    },
    {
      "cell_type": "code",
      "source": [
        "%%timeit\n",
        "rmse_paral(R[:100000],P2,Q2)"
      ],
      "metadata": {
        "colab": {
          "base_uri": "https://localhost:8080/"
        },
        "id": "JUhbqNa3cxG-",
        "outputId": "b528fe8c-1cfc-40d7-83dc-24523ade5e97"
      },
      "execution_count": null,
      "outputs": [
        {
          "output_type": "stream",
          "name": "stdout",
          "text": [
            "10 loops, best of 5: 23.7 ms per loop\n"
          ]
        }
      ]
    },
    {
      "cell_type": "code",
      "source": [
        "%%timeit\n",
        "rmse_non_paral(R[:100000],P2,Q2)"
      ],
      "metadata": {
        "colab": {
          "base_uri": "https://localhost:8080/"
        },
        "id": "NkShfkojc0QF",
        "outputId": "ed53b135-876c-4b35-fcb6-a7e213800813"
      },
      "execution_count": null,
      "outputs": [
        {
          "output_type": "stream",
          "name": "stdout",
          "text": [
            "10 loops, best of 5: 22.4 ms per loop\n"
          ]
        }
      ]
    },
    {
      "cell_type": "markdown",
      "source": [
        "This might come from the fact that the RMSE function is not complex enough that it is worth to distribute it, therefore it is possible that we lose more time through creating and managing processes than what we win by distributing this function."
      ],
      "metadata": {
        "id": "Rh9sbRBdgC5y"
      }
    },
    {
      "cell_type": "markdown",
      "source": [
        "## SGD"
      ],
      "metadata": {
        "id": "4EdOh6C3Bn5m"
      }
    },
    {
      "cell_type": "markdown",
      "source": [
        "In this second part, we focus on distributing the SGD part of the algorithm. \n",
        "\n",
        "Multiple SGDs can be executed at the same time with no lock, which means that there is a risk of collision when modifying the matrixes $P$ and $Q$, but as the rating matrix is Sparse, and as we randomly pick a rating (associated to a row $i$ and a column $j$) the collision chances are really low."
      ],
      "metadata": {
        "id": "JiHe_aISgn64"
      }
    },
    {
      "cell_type": "code",
      "source": [
        "%%cython\n",
        "\n",
        "cimport cython\n",
        "cimport numpy as np\n",
        "from cython.parallel cimport prange\n",
        "from libc.stdlib cimport malloc, free\n",
        "\n",
        "np.import_array()\n",
        "from cpython cimport array\n",
        "import array\n",
        "import numpy as np\n",
        "\n",
        "from libc.stdio cimport printf\n",
        "\n",
        "\n",
        "#Since there seems to be an issue importing rmse_non_paral from __main__, redefine it here\n",
        "##################################################################\n",
        "\n",
        "@cython.boundscheck(False)\n",
        "@cython.wraparound(False)\n",
        "cdef double dot_fct(double[:] x, double[:] y) nogil:\n",
        "  '''Simple nogil dot function '''\n",
        "\n",
        "  cdef int n=len(x)\n",
        "  cdef int i\n",
        "  cdef double result=0\n",
        "  for i in range(n):\n",
        "    result+=x[i]*y[i]\n",
        "  return result\n",
        "\n",
        "@cython.boundscheck(False)\n",
        "@cython.wraparound(False)\n",
        "cdef double list_sum(double[:] to_sum_list) nogil:\n",
        "  '''nogil sum of elements in a list'''\n",
        "  cdef int n = len(to_sum_list)\n",
        "  cdef double result=0\n",
        "  cdef int i\n",
        "  for i in range(n):\n",
        "    result+=to_sum_list[i]\n",
        "  return result\n",
        "\n",
        "@cython.boundscheck(False)\n",
        "@cython.wraparound(False)\n",
        "\n",
        "def rmse_non_paral(int[:,:] R, double[:,:] P,  double[:,:] Q) :\n",
        "    '''Compute root mean square error between real Rating matrix and predicted rating matrix without paralellization\n",
        "    R : sparse rating matrix\n",
        "    P : First factorization matrix\n",
        "    Q : second factorization matrix\n",
        "    '''\n",
        "    cdef int nb_rows=len(R)\n",
        "    cdef int i,j,r\n",
        "\n",
        "    cdef double pred\n",
        "    cdef double tot_error=0\n",
        "\n",
        "    for k in range(nb_rows):\n",
        "      \n",
        "      i=R[k,0]\n",
        "      j=R[k,1]\n",
        "      r=R[k,2]\n",
        "\n",
        "      pred=dot_fct(P[i,:],Q[j,:])\n",
        "\n",
        "      tot_error+=(r-pred)**2\n",
        "    \n",
        "    cdef double result=(tot_error/nb_rows)**0.5\n",
        "    return(result)\n",
        "\n",
        "\n",
        "\n",
        "##################################################################\n",
        "\n",
        "@cython.wraparound(False)\n",
        "@cython.boundscheck(False)\n",
        "cdef void error(double *a, double *b, double *c, int* r, int j ) nogil:\n",
        "  '''\n",
        "  Function to compute single value prediction error\n",
        "  double *a : pointer toward first vector\n",
        "  double *b : pointer toward second vector\n",
        "  double *c : pointer toward (1,1) array in which scalar product will be stored.\n",
        "  int j : len of a and b \n",
        "  '''\n",
        "  cdef int k\n",
        "  for k in range(j):\n",
        "    c[0]+=a[k]*b[k]\n",
        "  c[0]=(1.0*r[0])-c[0]\n",
        "\n",
        "@cython.wraparound(False)\n",
        "@cython.boundscheck(False)\n",
        "cdef void update(double *a, double *b, int k, double e, double alpha, double beta) nogil:\n",
        "  '''Function to update Matrix row during sgd\n",
        "  double *a : pointer toward row to be updated\n",
        "  double *b : pointer toward row used from other matrix for prediction\n",
        "  double *c : pointer toward row in which we store updated value \n",
        "  int k : len of a and b\n",
        "  double e : prediction error\n",
        "  alpha : parameter\n",
        "  beta : parameter\n",
        "  '''\n",
        "  cdef int i\n",
        "  for i in range(k):\n",
        "    a[i]=(1-alpha*beta)*a[i]+alpha*e*b[i]\n",
        "  \n",
        "\n",
        "\n",
        "\n",
        "\n",
        "@cython.boundscheck(False)\n",
        "@cython.wraparound(False)\n",
        "cdef void sgd_iteration_paral( double[:,:] P,  double[:,:] Q, int[:,:] R, double alpha, double beta, int k):\n",
        "    \"\"\"\n",
        "    SGD iteration over the provided samples from R\n",
        "    \"\"\"\n",
        "    cdef int nb_samples=len(R)\n",
        "    cdef int l\n",
        "    cdef double[:,:] stored_errors = np.zeros((nb_samples,1),dtype=float)\n",
        "\n",
        "    for l in prange(nb_samples,nogil=True):\n",
        "\n",
        "        error(&P[R[l,0],0], &Q[R[l,1],0], &stored_errors[l,0], &(R[l,2]), k)\n",
        "        update(&P[R[l,0],0], &Q[R[l,1],0], k, stored_errors[l,0], alpha, beta)\n",
        "        update(&Q[R[l,1],0], &P[R[l,0],0], k, stored_errors[l,0], alpha, beta)\n",
        "\n",
        "\n",
        "\n",
        "\n",
        "@cython.boundscheck(False)\n",
        "@cython.wraparound(False)\n",
        "def mf_sgd_paral(int[:,:] R, int k, double alpha, double beta, int n_iter, verbose = True):\n",
        "    \"\"\"\n",
        "    Matrix factorization\n",
        "    - R : matrix to factorize\n",
        "    - k : latent dimension\n",
        "    - alpha : learning rate\n",
        "    - beta : regularization parameter\n",
        "    - n_iter : number of SGD iterations\n",
        "    \"\"\"\n",
        "    # Initialize user and item feature matrices\n",
        "    m,n = int(1+np.max(R[:,0])), int(1+np.max(R[:,1]))\n",
        "    cdef double[:,:] P = 1./k * np.random.normal(size=(m,k))\n",
        "    cdef double[:,:] Q = 1./k * np.random.normal(size=(n,k))\n",
        "    cdef int i\n",
        "    \n",
        "    # Perform stochastic gradient descent for number of iterations\n",
        "    for i in range(n_iter):\n",
        "        sgd_iteration_paral(P, Q, R, alpha, beta, k)\n",
        "        if verbose and ((i+1)%(n_iter//10) == 0):\n",
        "            print(f\"Iteration: {i+1}: RMSE = {rmse_non_paral(R, np.asarray(P), np.asarray(Q)):.5f}\")\n",
        "    return(np.asarray(P),np.asarray(Q))"
      ],
      "metadata": {
        "id": "t2SrmR-AUDSK"
      },
      "execution_count": null,
      "outputs": []
    },
    {
      "cell_type": "code",
      "source": [
        "P,Q=mf_sgd_paral(R, k=32, alpha=0.01, beta=0.25, n_iter=50)"
      ],
      "metadata": {
        "colab": {
          "base_uri": "https://localhost:8080/"
        },
        "id": "mWYTKIgqnrOD",
        "outputId": "4cf618e7-f581-413b-f23f-de09d4fc2669"
      },
      "execution_count": null,
      "outputs": [
        {
          "output_type": "stream",
          "name": "stdout",
          "text": [
            "Iteration: 5: RMSE = 2.60563\n",
            "Iteration: 10: RMSE = 1.33964\n",
            "Iteration: 15: RMSE = 1.02820\n",
            "Iteration: 20: RMSE = 0.90867\n",
            "Iteration: 25: RMSE = 0.84722\n",
            "Iteration: 30: RMSE = 0.80828\n",
            "Iteration: 35: RMSE = 0.77966\n",
            "Iteration: 40: RMSE = 0.75641\n",
            "Iteration: 45: RMSE = 0.73629\n",
            "Iteration: 50: RMSE = 0.71818\n"
          ]
        }
      ]
    },
    {
      "cell_type": "code",
      "source": [
        "timeit_results=[]\n",
        "indexes=[10*i for i in range(1,11)]\n",
        "number=5\n",
        "R_time=R[:10000]\n",
        "for index in indexes:\n",
        "  exec_time=timeit(\"mf_sgd_paral(R_time,k=\"+str(index)+\",alpha=0.01, beta=0.25, n_iter=10,verbose=False)\",\"from __main__ import mf_sgd_paral,R_time\",number=number)\n",
        "  exec_time=exec_time/number\n",
        "  timeit_results.append(exec_time)"
      ],
      "metadata": {
        "id": "0n95O2sWB2w8"
      },
      "execution_count": null,
      "outputs": []
    },
    {
      "cell_type": "code",
      "source": [
        "plt.plot(indexes,timeit_results)\n",
        "plt.xlabel(\"k\")\n",
        "plt.ylabel(\"execution time in s\")\n",
        "plt.show()"
      ],
      "metadata": {
        "colab": {
          "base_uri": "https://localhost:8080/",
          "height": 279
        },
        "id": "uOs_oscbX_Z7",
        "outputId": "39e8370e-d14e-4fee-cf4a-deb524a87a1a"
      },
      "execution_count": null,
      "outputs": [
        {
          "output_type": "display_data",
          "data": {
            "image/png": "[encoded data removed]",
            "text/plain": [
              "<Figure size 432x288 with 1 Axes>"
            ]
          },
          "metadata": {
            "needs_background": "light"
          }
        }
      ]
    },
    {
      "cell_type": "markdown",
      "source": [
        "We can notice that we win an average speed up of 2 for our Matrix Factorization algorithm using the distributed version (when using the first 10000 ratings).\n",
        "\n",
        "Below, we do the same but this time using the whole rating matrix :"
      ],
      "metadata": {
        "id": "9MqaWzNvhWT_"
      }
    },
    {
      "cell_type": "code",
      "source": [
        "#Non distributed time with rank 64 for P and Q using the whole matrix R\n",
        "exec_time=timeit(\"mf_sgd(R,k=64 ,alpha=0.01, beta=0.25, n_iter=10,verbose=False)\",\"from __main__ import mf_sgd,R\",number=1)\n",
        "print(\"In average, it took\",exec_time,\"seconds to execute the program\")"
      ],
      "metadata": {
        "colab": {
          "base_uri": "https://localhost:8080/"
        },
        "id": "VH3HN2Uch6e8",
        "outputId": "1b863552-a3a6-4f4d-e4af-ad250ae9a639"
      },
      "execution_count": 2,
      "outputs": [
        {
          "output_type": "stream",
          "name": "stdout",
          "text": [
            "In average, it took 353.8863659639974  seconds to execute the program\n"
          ]
        }
      ]
    },
    {
      "cell_type": "code",
      "source": [
        "#Distributed time with rank 64 for P and Q using the whole matrix R\n",
        "exec_time=timeit(\"mf_sgd_paral(R,k=64 ,alpha=0.01, beta=0.25, n_iter=10,verbose=False)\",\"from __main__ import mf_sgd_paral,R\",number=10)\n",
        "exec_time=exec_time/10\n",
        "print(\"In average, it took\",exec_time,\"seconds to execute the program\")"
      ],
      "metadata": {
        "colab": {
          "base_uri": "https://localhost:8080/"
        },
        "id": "aNyfes3kiAzQ",
        "outputId": "097b8180-57e2-4512-b0af-e34b78363cab"
      },
      "execution_count": 3,
      "outputs": [
        {
          "output_type": "stream",
          "name": "stdout",
          "text": [
            "In average, it took 7.439300606400138  seconds to execute the program\n"
          ]
        }
      ]
    },
    {
      "cell_type": "markdown",
      "source": [
        "When using the whole matrix (which contains $1.4*10^{6}$ ratings), we find this time that we have a speed up of 47.5. We can hypothesize that a large part of this speed up comes from the fact that we compiled our program to C++ using Cython."
      ],
      "metadata": {
        "id": "A59YdCDGiRa1"
      }
    }
  ]
}